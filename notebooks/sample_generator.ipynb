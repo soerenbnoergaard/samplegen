{
 "cells": [
  {
   "cell_type": "markdown",
   "metadata": {},
   "source": [
    "# Sample generator"
   ]
  },
  {
   "cell_type": "code",
   "execution_count": 55,
   "metadata": {},
   "outputs": [
    {
     "name": "stdout",
     "output_type": "stream",
     "text": [
      "The autoreload extension is already loaded. To reload it, use:\n",
      "  %reload_ext autoreload\n"
     ]
    }
   ],
   "source": [
    "import os\n",
    "import io\n",
    "import sys\n",
    "import zipfile\n",
    "\n",
    "from numpy import *\n",
    "from matplotlib.pyplot import *\n",
    "from scipy.io import wavfile\n",
    "from collections import namedtuple\n",
    "\n",
    "sys.path.append(\"..\")\n",
    "\n",
    "from samplegen import *\n",
    "%load_ext autoreload\n",
    "%autoreload 2"
   ]
  },
  {
   "cell_type": "code",
   "execution_count": 59,
   "metadata": {},
   "outputs": [],
   "source": [
    "volca_c3 = sample_t(\n",
    "    filename = \"/home/soren/vcs/sbnsampler/app/sound/volca_c3.wav\",\n",
    "    note_root = 60,\n",
    "    note_max = 127,\n",
    "    note_min = 0,\n",
    "    loop_start = 26592,\n",
    "    loop_stop = 70614,\n",
    ")\n",
    "\n",
    "bitwig.write_single(\"volca_c3.multisample\", volca_c3)"
   ]
  },
  {
   "cell_type": "code",
   "execution_count": 60,
   "metadata": {},
   "outputs": [],
   "source": [
    "volca_c4 = sample_t(\n",
    "    filename = \"/home/soren/vcs/sbnsampler/app/sound/volca_c4.wav\",\n",
    "    note_root = 72,\n",
    "    note_max = 127,\n",
    "    note_min = 0,\n",
    "    loop_start = 26538,\n",
    "    loop_stop = 70618,\n",
    ")\n",
    "\n",
    "bitwig.write_single(\"volca_c4.multisample\", volca_c4)"
   ]
  }
 ],
 "metadata": {
  "kernelspec": {
   "display_name": "Python 3",
   "language": "python",
   "name": "python3"
  },
  "language_info": {
   "codemirror_mode": {
    "name": "ipython",
    "version": 3
   },
   "file_extension": ".py",
   "mimetype": "text/x-python",
   "name": "python",
   "nbconvert_exporter": "python",
   "pygments_lexer": "ipython3",
   "version": "3.6.8"
  },
  "toc": {
   "base_numbering": 1,
   "nav_menu": {},
   "number_sections": true,
   "sideBar": true,
   "skip_h1_title": false,
   "title_cell": "Table of Contents",
   "title_sidebar": "Contents",
   "toc_cell": false,
   "toc_position": {},
   "toc_section_display": true,
   "toc_window_display": false
  }
 },
 "nbformat": 4,
 "nbformat_minor": 2
}
